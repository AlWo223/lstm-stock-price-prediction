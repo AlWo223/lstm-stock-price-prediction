{
 "cells": [
  {
   "cell_type": "code",
   "execution_count": 34,
   "metadata": {},
   "outputs": [],
   "source": [
    "tickers_100 = []\n",
    "stock_selection_path = os.path.join(os.getcwd(), 'sample_ticker_list.txt')\n",
    "with open(stock_selection_path) as stocks:\n",
    "    for stock in stocks:\n",
    "        stock = stock.strip()\n",
    "        tickers_100.append(stock)"
   ]
  },
  {
   "cell_type": "code",
   "execution_count": 35,
   "metadata": {},
   "outputs": [],
   "source": [
    "tickers_medium = []\n",
    "stock_medium_path = os.path.join(os.getcwd(), 'medium_risk_stocks.txt')\n",
    "\n",
    "with open(stock_medium_path) as stocks:\n",
    "    for stock in stocks:\n",
    "        stock = stock.strip()\n",
    "        tickers_medium.append(stock)"
   ]
  },
  {
   "cell_type": "code",
   "execution_count": 36,
   "metadata": {},
   "outputs": [],
   "source": [
    "### Identify how man tickers_100 are medium\n",
    "unpicked_tickers = tickers_medium\n",
    "final_tickers = []\n",
    "for stock in tickers_100:\n",
    "    if stock in tickers_medium:\n",
    "        final_tickers.append(stock)\n",
    "        unpicked_tickers.remove(stock)"
   ]
  },
  {
   "cell_type": "code",
   "execution_count": 37,
   "metadata": {},
   "outputs": [
    {
     "data": {
      "text/plain": [
       "['USNA',\n",
       " 'TMUS',\n",
       " 'PRA',\n",
       " 'CMG',\n",
       " 'KEX',\n",
       " 'BMI',\n",
       " 'HT',\n",
       " 'NEWS',\n",
       " 'SCCO',\n",
       " 'OKE',\n",
       " 'AEG',\n",
       " 'AEY',\n",
       " 'ASR',\n",
       " 'SMP',\n",
       " 'ADS',\n",
       " 'REX',\n",
       " 'DAL',\n",
       " 'RIO',\n",
       " 'LVS',\n",
       " 'PJC',\n",
       " 'SEB',\n",
       " 'ANGO',\n",
       " 'HPQ',\n",
       " 'CRVL',\n",
       " 'WOR',\n",
       " 'TRMB',\n",
       " 'SNHY',\n",
       " 'CAC',\n",
       " 'BBL',\n",
       " 'OPY',\n",
       " 'TMP',\n",
       " 'CBSH',\n",
       " 'BSTC',\n",
       " 'SCG',\n",
       " 'ALG',\n",
       " 'CVCO']"
      ]
     },
     "execution_count": 37,
     "metadata": {},
     "output_type": "execute_result"
    }
   ],
   "source": [
    "final_tickers"
   ]
  },
  {
   "cell_type": "code",
   "execution_count": 31,
   "metadata": {},
   "outputs": [],
   "source": [
    "import random\n",
    "random.seed(42)\n",
    "num_stocks = 302\n",
    "while len(final_tickers) < num_stocks:\n",
    "    stock = random.choice(unpicked_tickers)\n",
    "    final_tickers.append(stock)\n",
    "    unpicked_tickers.remove(stock)"
   ]
  },
  {
   "cell_type": "code",
   "execution_count": 32,
   "metadata": {},
   "outputs": [],
   "source": [
    "stock_medium_final_path = os.path.join(os.getcwd(), f'medium_risk_stocks_{num_stocks}.txt')\n",
    "with open(stock_medium_final_path, 'w') as file:\n",
    "    for ticker in final_tickers:\n",
    "        file.write(ticker + \"\\n\")"
   ]
  }
 ],
 "metadata": {
  "kernelspec": {
   "display_name": "Python 3.9.13 ('base')",
   "language": "python",
   "name": "python3"
  },
  "language_info": {
   "codemirror_mode": {
    "name": "ipython",
    "version": 3
   },
   "file_extension": ".py",
   "mimetype": "text/x-python",
   "name": "python",
   "nbconvert_exporter": "python",
   "pygments_lexer": "ipython3",
   "version": "3.9.13"
  },
  "orig_nbformat": 4,
  "vscode": {
   "interpreter": {
    "hash": "19c98712dbab2d9f137b793e02f2ae57ce4417f7fcb857bf332d41f094c53a2e"
   }
  }
 },
 "nbformat": 4,
 "nbformat_minor": 2
}
